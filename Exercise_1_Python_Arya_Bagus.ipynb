{
  "nbformat": 4,
  "nbformat_minor": 0,
  "metadata": {
    "colab": {
      "provenance": []
    },
    "kernelspec": {
      "name": "python3",
      "display_name": "Python 3"
    },
    "language_info": {
      "name": "python"
    }
  },
  "cells": [
    {
      "cell_type": "markdown",
      "source": [
        "# **Exercise 1 Python**\n",
        "\n",
        "Introduction to Software & Data Engineering with Python - Sekolah Engineering - Pacmann Academy\n",
        "\n",
        "Materi yang diujikan pada exercise ini adalah\n",
        "1. A Good First Program\n",
        "2. Primitive Data Structure\n",
        "3. Boolean\n",
        "4. Branching"
      ],
      "metadata": {
        "id": "Dlz3iy7U1xQ4"
      }
    },
    {
      "cell_type": "markdown",
      "source": [
        "## **A Good First Program**"
      ],
      "metadata": {
        "id": "m5QOOvTf2Bwh"
      }
    },
    {
      "cell_type": "markdown",
      "source": [
        "### **Printing**\n"
      ],
      "metadata": {
        "id": "6N5UncOIc9LV"
      }
    },
    {
      "cell_type": "markdown",
      "source": [
        "**Case Study 1**"
      ],
      "metadata": {
        "id": "Lax3WmbS3LLB"
      }
    },
    {
      "cell_type": "markdown",
      "source": [
        "#### **1a**\n",
        "Cobalah tampilkan nama Anda menggunakan perintah print!"
      ],
      "metadata": {
        "id": "rfwvRxJyPfJK"
      }
    },
    {
      "cell_type": "code",
      "execution_count": null,
      "metadata": {
        "id": "o8VkXgesbJh7",
        "colab": {
          "base_uri": "https://localhost:8080/"
        },
        "outputId": "720f9109-56e7-4ddf-ac25-95cb2a56835b"
      },
      "outputs": [
        {
          "output_type": "stream",
          "name": "stdout",
          "text": [
            "Joko\n"
          ]
        }
      ],
      "source": [
        "# Code in here\n",
        "..."
      ]
    },
    {
      "cell_type": "markdown",
      "source": [
        "#### **1b**\n",
        "Cobalah print text di bawah ini!\n",
        "\n",
        "Saya sedang belajar melakukan perintah print pada Python"
      ],
      "metadata": {
        "id": "ExwHGC06Po86"
      }
    },
    {
      "cell_type": "code",
      "source": [
        "# Code in here\n",
        "..."
      ],
      "metadata": {
        "id": "MuREpGg3fTQY",
        "colab": {
          "base_uri": "https://localhost:8080/"
        },
        "outputId": "f8ec0503-b418-4d2a-d929-3fc4c6b879a5"
      },
      "execution_count": null,
      "outputs": [
        {
          "output_type": "stream",
          "name": "stdout",
          "text": [
            "Saya sedang belajar melakukan perintah print pada Python\n"
          ]
        }
      ]
    },
    {
      "cell_type": "markdown",
      "source": [
        "#### **1c**\n",
        "- Misalkan terdapat sebuah segitiga dengan tinggi 3 cm dan alas 2 cm.\n",
        "- Cobalah print tinggi dari segitiga tersebut!"
      ],
      "metadata": {
        "id": "G-s8BxPLQxRt"
      }
    },
    {
      "cell_type": "code",
      "source": [
        "# Code in here\n",
        "..."
      ],
      "metadata": {
        "id": "XtwXpGbOfmdM",
        "colab": {
          "base_uri": "https://localhost:8080/"
        },
        "outputId": "b022bd17-2fcb-475a-ed49-784922634bcd"
      },
      "execution_count": null,
      "outputs": [
        {
          "output_type": "stream",
          "name": "stdout",
          "text": [
            "3\n"
          ]
        }
      ]
    },
    {
      "cell_type": "markdown",
      "source": [
        "### **Variabel**"
      ],
      "metadata": {
        "id": "Bl7cpaT_3CQH"
      }
    },
    {
      "cell_type": "markdown",
      "source": [
        "**Case Study 2**\n",
        "\n",
        "- Variabel merupakan tempat menyimpan sebuah nilai ataupun data.\n",
        "- Kita dapat membuat variabel dengan menggunakan syntax sebagai berikut:\n",
        "```python\n",
        "nama_variabel = <nilai>\n",
        "```\n",
        "- Nilai dapat berupa teks maupun angka/bilangan."
      ],
      "metadata": {
        "id": "RVxP6dXJftA0"
      }
    },
    {
      "cell_type": "markdown",
      "source": [
        "#### **2a**\n",
        "Misalkan kita ingin membuat sebuah variabel yang menyimpan nama kita\n",
        "\n",
        "- Nama Variabel = nama\n",
        "- Isi dari Variabel = \"nama kita\""
      ],
      "metadata": {
        "id": "_m2BG2YYgV5G"
      }
    },
    {
      "cell_type": "code",
      "source": [
        "# Code in here\n",
        "..."
      ],
      "metadata": {
        "id": "REMgSDLpjcsL"
      },
      "execution_count": null,
      "outputs": []
    },
    {
      "cell_type": "markdown",
      "source": [
        "#### **2b**\n",
        "Misalkan kita ingin membuat sebuah variabel yang menyimpan text **\"Saya sedang belajar membuat variabel\"**\n",
        "\n",
        "- Nama Variabel = text\n",
        "- Isi dari Variabel = \"Saya sedang belajar membuat variabel\""
      ],
      "metadata": {
        "id": "71VT0xQNiA5j"
      }
    },
    {
      "cell_type": "code",
      "source": [
        "# Code in here\n",
        "..."
      ],
      "metadata": {
        "id": "qFInAWRxiQsj"
      },
      "execution_count": null,
      "outputs": []
    },
    {
      "cell_type": "markdown",
      "source": [
        "#### **2c**\n",
        "Perhatikan contoh variabel di bawah ini!\n",
        "```python\n",
        "tinggi_trapesium_yang_saya_miliki = 5\n",
        "```\n",
        "\n",
        "Pada Video Learning sebelumnya, kita telah belajar mengenai Bad and Good Variables. Contoh variabel di atas merupakan variabel yang buruk. Buatlah variabel yang baik dari contoh di atas!"
      ],
      "metadata": {
        "id": "M3l5yFaqiD1r"
      }
    },
    {
      "cell_type": "code",
      "source": [
        "# Code in here\n",
        "..."
      ],
      "metadata": {
        "id": "GeoF9Jhqfqo8"
      },
      "execution_count": null,
      "outputs": []
    },
    {
      "cell_type": "markdown",
      "source": [
        "### **More Printing!!**\n"
      ],
      "metadata": {
        "id": "QirB5sOejIaM"
      }
    },
    {
      "cell_type": "markdown",
      "source": [
        "**Case Study 3**\n",
        "\n",
        "Setelah sebelumnya kita telah mempelajari mengenai variabel, maka sekarang kita akan belajar bagaimana caranya menampilkan isi dari variabel yang telah kita buat sebelumnya.\n",
        "\n",
        "Misalkan kita membuat variabel yang akan menyimpan nama dan umur seseorang. Kemudian kita ingin menampilkan isinya.\n",
        "\n",
        "- nama = \"Mark Zuckerberg\"\n",
        "- umur = 38"
      ],
      "metadata": {
        "id": "vvDr8UgI3SCg"
      }
    },
    {
      "cell_type": "markdown",
      "source": [
        "#### **3a**\n",
        "Tampilkanlah isi dari variabel nama!"
      ],
      "metadata": {
        "id": "-rRAAQuvjnLs"
      }
    },
    {
      "cell_type": "code",
      "source": [
        "# Code in here\n",
        "..."
      ],
      "metadata": {
        "id": "XzK3uWiNkCXF",
        "colab": {
          "base_uri": "https://localhost:8080/"
        },
        "outputId": "05af2868-f30f-4a26-f55c-3943a6e65ce9"
      },
      "execution_count": null,
      "outputs": [
        {
          "output_type": "stream",
          "name": "stdout",
          "text": [
            "Mark Zuckerberg\n"
          ]
        }
      ]
    },
    {
      "cell_type": "markdown",
      "source": [
        "#### **3b**\n",
        "Tampilkanlah isi dari variabel umur!"
      ],
      "metadata": {
        "id": "itPOgMkQjnUS"
      }
    },
    {
      "cell_type": "code",
      "source": [
        "# Code in here\n",
        "..."
      ],
      "metadata": {
        "id": "H9OcOBf6nycU",
        "colab": {
          "base_uri": "https://localhost:8080/"
        },
        "outputId": "254cf9bf-c882-4ea2-ea68-900fdff96433"
      },
      "execution_count": null,
      "outputs": [
        {
          "output_type": "stream",
          "name": "stdout",
          "text": [
            "38\n"
          ]
        }
      ]
    },
    {
      "cell_type": "markdown",
      "source": [
        "#### **3c**\n",
        "\n",
        "Apakah output yang akan dihasilkan dari potongan *code* di bawah ini?\n",
        "- nama = \"Mark Zuckerberg\"\n",
        "- umur = 38\n",
        "- print(Ini adalah %s. Beliau berumur %s tahun.\" % (nama, umur))"
      ],
      "metadata": {
        "id": "QDoo2-Pbjnc7"
      }
    },
    {
      "cell_type": "code",
      "source": [
        "# Code in here\n",
        "..."
      ],
      "metadata": {
        "id": "W4jMtJE3kYx8",
        "colab": {
          "base_uri": "https://localhost:8080/"
        },
        "outputId": "f4594bba-2c76-4f6a-ca21-2a852e426a7c"
      },
      "execution_count": null,
      "outputs": [
        {
          "output_type": "stream",
          "name": "stdout",
          "text": [
            "Ini adalah Mark Zuckerberg. Beliau berumur 38 tahun.\n"
          ]
        }
      ]
    },
    {
      "cell_type": "markdown",
      "source": [
        "### **Commenting**\n"
      ],
      "metadata": {
        "id": "3xyw_MqCkY-W"
      }
    },
    {
      "cell_type": "markdown",
      "source": [
        "**Case Study 4**\n",
        "- Commenting merupakan sebuah komentar yang digunakan untuk memperjelas maksud dari sebuah proses ataupun sebuah perintah.\n",
        "- Apabila dijalankan commenting tidak akan melakukan eksekusi apapun.\n",
        "- Commenting diperlukan untuk mempermudah kita mengerti suatu program.\n",
        "- Commenting juga akan mempermudah orang lain yang hendak membaca program kita kelak."
      ],
      "metadata": {
        "id": "OW6qJQx33csn"
      }
    },
    {
      "cell_type": "markdown",
      "source": [
        "#### **4a**\n",
        "\n",
        "- tinggi_trapesium = 4 cm\n",
        "- print(tinggi_trapesium)\n",
        "\n",
        "Berilah komentar pada code di atas menggunakan inline comment!"
      ],
      "metadata": {
        "id": "I2IqeCdlkly9"
      }
    },
    {
      "cell_type": "code",
      "source": [
        "# Code in here\n",
        "..."
      ],
      "metadata": {
        "id": "dNi1AmzWX7KW"
      },
      "execution_count": null,
      "outputs": []
    },
    {
      "cell_type": "markdown",
      "source": [
        "#### **4b**\n",
        "Berilah comment pada code di bawah ini!"
      ],
      "metadata": {
        "id": "xvPy9d6ukl9Y"
      }
    },
    {
      "cell_type": "code",
      "source": [
        "# Code in here\n",
        "# Masukkan comment di titik - titik di bawah ini\n",
        "\n",
        "...\n",
        "print(\"17 Agustus adalah hari kemerdekaan Indonesia\")"
      ],
      "metadata": {
        "id": "fus-56o4Yk3F"
      },
      "execution_count": null,
      "outputs": []
    },
    {
      "cell_type": "markdown",
      "source": [
        "#### **4c**\n",
        "\n",
        "Terdapat dua code di bawah ini\n",
        "\n",
        "- luas_persegi = sisi_persegi * sisi_persegi # mencari luas persegi\n",
        "- luas_persegi = sisi_persegi * sisi_persegi # Ini adalah baris yang digunakan untuk mencari luas persegi sebagai hasil perkalian sisi persegi dengan sisi persegi\n",
        "\n",
        "Manakah code yang memiliki komentar yang baik?"
      ],
      "metadata": {
        "id": "i_2EtkvtkmGc"
      }
    },
    {
      "cell_type": "markdown",
      "source": [
        "Isi jawaban di titik - titik di bawah ini\n",
        "\n",
        "..."
      ],
      "metadata": {
        "id": "kvcrhG0Qhwia"
      }
    },
    {
      "cell_type": "markdown",
      "source": [
        "### **Error**\n"
      ],
      "metadata": {
        "id": "EZRXmeX_kvsf"
      }
    },
    {
      "cell_type": "markdown",
      "source": [
        "\n",
        "Ketika mendapati suatu error, ada beberapa langkah yang dapat kita lakukan untuk dapat mengatasinya, yaitu:\n",
        "- Perhatikan error outputnya\n",
        "- Cobalah untuk googling mengenai error tersebut\n",
        "- Kemudian cobalah code yang telah digoogling sebelumnya\n",
        "- Apabila masih belum *solve*, cobalah untuk googling kembali\n",
        "\n",
        "**Case Study 5**\n",
        "\n",
        "Pak Joko memiliki 3 orang anak. Setiap hari ia selalu memberikan uang saku kepada ketiga anaknya dengan rincian sebagai berikut:\n",
        "- Anak Pertama: 25.000\n",
        "- Anak Kedua 15.000\n",
        "- Anak Ketiga 10.000"
      ],
      "metadata": {
        "id": "tYWl7NgN3k9o"
      }
    },
    {
      "cell_type": "markdown",
      "source": [
        "#### **5a**\n",
        "Misalkan kita melakukan print pada uang jajan anak pertama menggunakan perintah dibawah ini:"
      ],
      "metadata": {
        "id": "mynWzjhhlGCc"
      }
    },
    {
      "cell_type": "code",
      "source": [
        "anak_1 = 25000\n",
        "anak_2 = 15000\n",
        "anak_3 = 10000\n",
        "\n",
        "PRINT(anak1):"
      ],
      "metadata": {
        "colab": {
          "base_uri": "https://localhost:8080/",
          "height": 130
        },
        "id": "k8qa15bHg34b",
        "outputId": "083aff85-dd83-44d7-cbae-14a223fad215"
      },
      "execution_count": null,
      "outputs": [
        {
          "output_type": "error",
          "ename": "SyntaxError",
          "evalue": "ignored",
          "traceback": [
            "\u001b[0;36m  File \u001b[0;32m\"<ipython-input-1-67ee64c89792>\"\u001b[0;36m, line \u001b[0;32m6\u001b[0m\n\u001b[0;31m    PRINT(anak1):\u001b[0m\n\u001b[0m                 ^\u001b[0m\n\u001b[0;31mSyntaxError\u001b[0m\u001b[0;31m:\u001b[0m invalid syntax\n"
          ]
        }
      ]
    },
    {
      "cell_type": "code",
      "source": [
        "#Code in here\n",
        "..."
      ],
      "metadata": {
        "id": "GGe9ZbqUhZaD"
      },
      "execution_count": null,
      "outputs": []
    },
    {
      "cell_type": "markdown",
      "source": [
        "#### **5b**\n",
        "Misalkan kita melakukan print pada uang jajan anak kedua menggunakan perintah dibawah ini:"
      ],
      "metadata": {
        "id": "V_lC0-y_lGLZ"
      }
    },
    {
      "cell_type": "code",
      "source": [
        "anak_1 = 25000\n",
        "anak_2 = 15000\n",
        "anak_3 = 10000\n",
        "\n",
        "print(ANAK_2)"
      ],
      "metadata": {
        "colab": {
          "base_uri": "https://localhost:8080/",
          "height": 200
        },
        "id": "4fN8SXXzhk6a",
        "outputId": "edea6ff0-0d52-4ce3-9b3f-5689036395ad"
      },
      "execution_count": null,
      "outputs": [
        {
          "output_type": "error",
          "ename": "NameError",
          "evalue": "ignored",
          "traceback": [
            "\u001b[0;31m---------------------------------------------------------------------------\u001b[0m",
            "\u001b[0;31mNameError\u001b[0m                                 Traceback (most recent call last)",
            "\u001b[0;32m<ipython-input-2-6cd33415496d>\u001b[0m in \u001b[0;36m<module>\u001b[0;34m\u001b[0m\n\u001b[1;32m      3\u001b[0m \u001b[0manak_3\u001b[0m \u001b[0;34m=\u001b[0m \u001b[0;36m10000\u001b[0m\u001b[0;34m\u001b[0m\u001b[0;34m\u001b[0m\u001b[0m\n\u001b[1;32m      4\u001b[0m \u001b[0;34m\u001b[0m\u001b[0m\n\u001b[0;32m----> 5\u001b[0;31m \u001b[0mprint\u001b[0m\u001b[0;34m(\u001b[0m\u001b[0mANAK_2\u001b[0m\u001b[0;34m)\u001b[0m\u001b[0;34m\u001b[0m\u001b[0;34m\u001b[0m\u001b[0m\n\u001b[0m",
            "\u001b[0;31mNameError\u001b[0m: name 'ANAK_2' is not defined"
          ]
        }
      ]
    },
    {
      "cell_type": "code",
      "source": [
        "# Code in here\n",
        "..."
      ],
      "metadata": {
        "id": "bYo95vkAht27"
      },
      "execution_count": null,
      "outputs": []
    },
    {
      "cell_type": "markdown",
      "source": [
        "#### **5c**\n",
        "Misalkan kita ingin menjalankan potongan code di bawah ini\n",
        "\n",
        "- print(\"Uang saku anak pertama adalah 25.000\")\n",
        "    - print(\"Uang saku anak kedua adalah 15.000\")\n",
        "- print(\"Uang saku anak ketiga adalah 10.000\")"
      ],
      "metadata": {
        "id": "Uxuv6DTMlGTR"
      }
    },
    {
      "cell_type": "code",
      "source": [
        "print(\"Uang saku anak pertama adalah 25.000\")\n",
        "  print(\"Uang saku anak kedua adalah 15.000\")\n",
        "print(\"Uang saku anak ketiga adalah 10.000\")"
      ],
      "metadata": {
        "id": "2_tBS3VZGWL1",
        "colab": {
          "base_uri": "https://localhost:8080/",
          "height": 130
        },
        "outputId": "34413af4-e10f-4ea4-e01c-85c4eb078aac"
      },
      "execution_count": null,
      "outputs": [
        {
          "output_type": "error",
          "ename": "IndentationError",
          "evalue": "ignored",
          "traceback": [
            "\u001b[0;36m  File \u001b[0;32m\"<ipython-input-4-a5c66251bc0e>\"\u001b[0;36m, line \u001b[0;32m2\u001b[0m\n\u001b[0;31m    print(\"Uang saku anak kedua adalah 15.000\")\u001b[0m\n\u001b[0m    ^\u001b[0m\n\u001b[0;31mIndentationError\u001b[0m\u001b[0;31m:\u001b[0m unexpected indent\n"
          ]
        }
      ]
    },
    {
      "cell_type": "code",
      "source": [
        "# Code in here\n",
        "..."
      ],
      "metadata": {
        "id": "PbB9tnXsiI9g"
      },
      "execution_count": null,
      "outputs": []
    },
    {
      "cell_type": "markdown",
      "source": [
        "# **Primitive Data Structure**"
      ],
      "metadata": {
        "id": "tUfNfupJ3xsj"
      }
    },
    {
      "cell_type": "markdown",
      "source": [
        "### Case 1: Tanah Pak Banu"
      ],
      "metadata": {
        "id": "kKY-MAgGrOTy"
      }
    },
    {
      "cell_type": "markdown",
      "source": [
        "Pak Banu memiliki sebidang tanah berbentuk Persegi Panjang dengan panjang 80 meter dan lebar 50 meter."
      ],
      "metadata": {
        "id": "4psXl_KXyqFI"
      }
    },
    {
      "cell_type": "markdown",
      "source": [
        "![1.jpg](https://sekolahdata-assets.s3.ap-southeast-1.amazonaws.com/notebook-images/mds-python-indo/1a.jpg)"
      ],
      "metadata": {
        "id": "d9-Jaa4Y2q_a"
      }
    },
    {
      "cell_type": "markdown",
      "source": [
        "#### **1A**\n",
        "\n",
        "Berapakah luas tanah Pak Banu ?"
      ],
      "metadata": {
        "id": "jBZa5oCx3okC"
      }
    },
    {
      "cell_type": "code",
      "source": [
        "# definisikan variabel panjang dan lebar\n",
        "...\n",
        "\n",
        "# cari luas tanah menggunakan rumus luas persegi\n",
        "# luas persegi = panjang * lebar\n",
        "...\n",
        "\n",
        "# tampilkan luas tanah\n",
        "..."
      ],
      "metadata": {
        "colab": {
          "base_uri": "https://localhost:8080/"
        },
        "id": "jITNA8UahSPR",
        "outputId": "c494c28b-64c8-485c-c49a-b0059a9cec56"
      },
      "execution_count": null,
      "outputs": [
        {
          "output_type": "stream",
          "name": "stdout",
          "text": [
            "Luas tanah Pak Banu = 4000 m^2 \n"
          ]
        }
      ]
    },
    {
      "cell_type": "markdown",
      "source": [
        "#### **1B**\n",
        "Pak Banu berencana untuk menanaminya dengan pohon jeruk. Jika pohon jeruk akan ditanam di tanah yang Pak Banu miliki, dan jarak antar pohon 5 * 5 meter, berapakah jumlah bibit pohon jeruk yang dibutuhkan Pak Banu ?\n",
        "\n",
        "![12.jpg](https://sekolahdata-assets.s3.ap-southeast-1.amazonaws.com/notebook-images/mds-python-indo/1b.jpg)\n",
        "\n",
        "```\n",
        "Keterangan :\n",
        "Rumus menghitung jumlah pohon\n",
        "jumlah pohon di sisi panjang = (panjang tanah / jarak pohon ) + 1\n",
        "jumlah pohon di sisi lebar = (lebar tanah / jarak pohon ) + 1\n",
        "total pohon = jumlah pohon di sisi panjang * jumlah pohon di sisi lebar\n",
        "\n",
        "```\n",
        "\n",
        "\n"
      ],
      "metadata": {
        "id": "ZjKCFqCl0s1t"
      }
    },
    {
      "cell_type": "code",
      "source": [
        "# definisikan variabel constant jarak antar pohon\n",
        "...\n",
        "\n",
        "# hitung jumlah bibit pohon\n",
        "# pakai variabel panjang dan lebar tanah di soal 1A\n",
        "...\n",
        "\n",
        "# tampilkan jumlah bibit pohon jeruk\n",
        "..."
      ],
      "metadata": {
        "colab": {
          "base_uri": "https://localhost:8080/"
        },
        "id": "SIUJA8_d7fTs",
        "outputId": "76b02ad8-3358-49f0-8d39-b3da3432339a"
      },
      "execution_count": null,
      "outputs": [
        {
          "output_type": "stream",
          "name": "stdout",
          "text": [
            "Jumlah bibit pohon jeruk yang dibutuhkan = 187 pohon\n"
          ]
        }
      ]
    },
    {
      "cell_type": "markdown",
      "source": [
        "#### **1C**\n",
        "\n",
        "Diketahui saat panen setiap pohon akan menghasilkan rata-rata 15 kg jeruk. Pak Banu menjual jeruk tersebut dengan harga 18.000 per kilogram. Berapakah pendapatan **(revenue)** yang didapatkan Pak Banu jika diasumsikan seluruh jeruk terjual ?\n",
        "\n",
        "\n",
        "```\n",
        "Keterangan:\n",
        "rumus revenue = jumlah barang * harga\n",
        "```\n",
        "\n"
      ],
      "metadata": {
        "id": "oZ7dNwj--YC_"
      }
    },
    {
      "cell_type": "code",
      "source": [
        "# definisikan variabel jumlah hasil per pohon dan harga per kilogram jeruk\n",
        "...\n",
        "\n",
        "# cari total keseluruhan total berat jeruk terlebih dahulu\n",
        "# pakai variabel total pohon yang dibutuhkan pada soal 1C\n",
        "# hitung dahulu hasil total jeruk = hasil per pohon * jumlah pohon\n",
        "...\n",
        "\n",
        "# hitung pendapatan atau revenue\n",
        "...\n",
        "\n",
        "# tampilkan revenue yang didapatkan\n",
        "..."
      ],
      "metadata": {
        "colab": {
          "base_uri": "https://localhost:8080/"
        },
        "id": "vdYEgWGz7fXN",
        "outputId": "d03ad835-b866-4f4f-acf4-a46809a0e263"
      },
      "execution_count": null,
      "outputs": [
        {
          "output_type": "stream",
          "name": "stdout",
          "text": [
            "Revenue yang didapatkan = Rp 50490000\n"
          ]
        }
      ]
    },
    {
      "cell_type": "markdown",
      "source": [
        "#### **1D**\n",
        "\n",
        "Jika modal yang dibutuhkan untuk pekerja, pupuk, obat tanaman, peralatan, dll adalah sekitar 9.000.000 rupiah, berapakah keuntungan bersih yang didapatkan Pak Banu ?\n",
        "\n",
        "\n",
        "\n",
        "```\n",
        "Keterangan :\n",
        "rumus laba bersih = total pendapatan - total pengeluaran\n",
        "```\n",
        "\n"
      ],
      "metadata": {
        "id": "HlrQgvgdnpra"
      }
    },
    {
      "cell_type": "code",
      "source": [
        "# definisikan variabel untuk biaya berkebun\n",
        "...\n",
        "\n",
        "# hitung untung bersih yang didapatkan\n",
        "# Gunakan variabel revenue dari soal nomer 1C\n",
        "...\n",
        "\n",
        "# tampilkan keuntungan bersih yang didapatkan\n",
        "..."
      ],
      "metadata": {
        "id": "nZw3j9Ae7fbi",
        "colab": {
          "base_uri": "https://localhost:8080/"
        },
        "outputId": "e955573b-2627-471f-ca2a-070212c5a3ce"
      },
      "execution_count": null,
      "outputs": [
        {
          "output_type": "stream",
          "name": "stdout",
          "text": [
            "Keuntungan bersih yang didapatkan = Rp 41490000\n"
          ]
        }
      ]
    },
    {
      "cell_type": "markdown",
      "source": [
        "### Case 2: Donat Bu Ida"
      ],
      "metadata": {
        "id": "HBiriXVprY68"
      }
    },
    {
      "cell_type": "markdown",
      "source": [
        "Bu Ida baru saja merintis berjualan kue donat. Dalam 10 kue donat menghabiskan dana sekitar Rp 70.000 untuk bahan-bahan dan Rp 10.000 untuk operasional."
      ],
      "metadata": {
        "id": "IUm352OGrexM"
      }
    },
    {
      "cell_type": "markdown",
      "source": [
        "####**2A**\n",
        "Hitunglah biaya produksi 10 kue donat Bu Ida\n",
        "\n",
        "```\n",
        "keterangan:\n",
        "biaya produksi = biaya bahan + biaya operasional\n",
        "```\n",
        "\n"
      ],
      "metadata": {
        "id": "e12WPeARIRzn"
      }
    },
    {
      "cell_type": "code",
      "source": [
        "# definisikan variabel biaya bahan dan biaya operasional\n",
        "...\n",
        "\n",
        "# hitung biaya produksi\n",
        "...\n",
        "\n",
        "# tampilkan biaya produksi 10 donat yang sudah di hitung\n",
        "..."
      ],
      "metadata": {
        "colab": {
          "base_uri": "https://localhost:8080/"
        },
        "id": "21GoPWELJJlD",
        "outputId": "cd01a547-c055-463c-ed5c-575f6dd34c9c"
      },
      "execution_count": null,
      "outputs": [
        {
          "output_type": "stream",
          "name": "stdout",
          "text": [
            "Biaya produksi 10 donat Bu Ida = Rp 80000\n"
          ]
        }
      ]
    },
    {
      "cell_type": "markdown",
      "source": [
        "#### **2B**"
      ],
      "metadata": {
        "id": "UGdni7CZJ0x6"
      }
    },
    {
      "cell_type": "markdown",
      "source": [
        "Jika Bu Ida ingin mendapatkan keuntungan sebanyak 20%, berapa harga donat per biji yang harus ditetapkan ?\n",
        "```\n",
        "keterangan :\n",
        "harga jual produk = biaya produksi + (prosentase keuntungan * biaya produksi)\n",
        "```\n",
        "\n"
      ],
      "metadata": {
        "id": "67NyL7SLJ4Dv"
      }
    },
    {
      "cell_type": "code",
      "source": [
        "# definisikan variabel prosentase keuntungan\n",
        "...\n",
        "\n",
        "# hitung harga jual produk\n",
        "...\n",
        "\n",
        "# perlu diketahui bahwa harga di atas adalah harga 10 produk\n",
        "# untuk mengetahui harga per biji maka harus dibagi 10\n",
        "# hitung harga per produk\n",
        "...\n",
        "\n",
        "# tampilakn harga kue donat per biji\n",
        "..."
      ],
      "metadata": {
        "id": "-1ZSq1h3oVP_",
        "colab": {
          "base_uri": "https://localhost:8080/"
        },
        "outputId": "3a45ad43-a588-44f2-82dd-0ab0849a9d33"
      },
      "execution_count": null,
      "outputs": [
        {
          "output_type": "stream",
          "name": "stdout",
          "text": [
            "Harga donat per biji adalah = Rp 9600\n"
          ]
        }
      ]
    },
    {
      "cell_type": "markdown",
      "source": [
        "### Case 3: Dana Pensiun Bruno"
      ],
      "metadata": {
        "id": "KC-XYlIvwhfb"
      }
    },
    {
      "cell_type": "markdown",
      "source": [
        "Bruno adalah seorang pekerja swasta. Supaya tidak menggantungkan diri kepada anaknya dia ingin menyiapkan dana untuk masa pensiun nanti. Untuk itu, Bruno mengikuti program dana pensiun dari suatu lembaga keuangan.  Dengan asumsi Bruno akan pensiun dari pekerjaanya pada usia 55 tahun dan usia yang bisa di ikuti dalam program dana pensiun tersebut adalah sampai usia 80 tahun."
      ],
      "metadata": {
        "id": "1z2c1RbowjMV"
      }
    },
    {
      "cell_type": "markdown",
      "source": [
        "#### **3A**\n",
        "\n",
        "Jika total biaya hidup Bruno saat ini adalah sekitar 4.000.000 per bulan. Berapakah tabungan pensiun yang harus disiapkan ?"
      ],
      "metadata": {
        "id": "to7iJQNo12LD"
      }
    },
    {
      "cell_type": "markdown",
      "source": [
        "\n",
        "\n",
        "```\n",
        "keterangan:\n",
        "biaya pensiun = biaya hidup per bulan x 12 (jumlah bulan dalam satu tahun) x rentang umur\n",
        "```\n",
        "\n"
      ],
      "metadata": {
        "id": "Enr5FFDdyEMv"
      }
    },
    {
      "cell_type": "code",
      "source": [
        "# definisikan variabel biaya hidup per bulan\n",
        "...\n",
        "\n",
        "# definisikan variabel umur saat pensiun\n",
        "# dan umur maksimal pada program dana pensiun\n",
        "...\n",
        "\n",
        "# hitung rentang umur saat mengikuti program dana pensiun\n",
        "# rentang umur = umur max - umur pensiun\n",
        "...\n",
        "\n",
        "# hitung biaya pensiun yang dibutuhkan\n",
        "...\n",
        "\n",
        "# tampilkan hasil perhitungan biaya pensiun\n",
        "..."
      ],
      "metadata": {
        "colab": {
          "base_uri": "https://localhost:8080/"
        },
        "id": "1t4JM9dEu1Ld",
        "outputId": "676b975d-9239-4213-ced5-3e0de09ceee3"
      },
      "execution_count": null,
      "outputs": [
        {
          "output_type": "stream",
          "name": "stdout",
          "text": [
            "Biaya pensiun yang harus disiapkan Bruno  adalah = Rp 1200000000\n"
          ]
        }
      ]
    },
    {
      "cell_type": "markdown",
      "source": [
        "#### **3B**\n",
        "Jika saat ini Bruno berusia 25 tahun. Berapakah gaji yang harus disisihkan per bulan untuk tabungan pensiunnya ?"
      ],
      "metadata": {
        "id": "FrcWfT1v1_gt"
      }
    },
    {
      "cell_type": "code",
      "source": [
        "# definisikan umur Bruno sekarang\n",
        "...\n",
        "\n",
        "# hitung lama bruno harus menabung\n",
        "# lama menabung = umur pensiun - umur sekarang\n",
        "...\n",
        "\n",
        "# hitung jumlah tabungan dalan satu tahun yang harus dikumpulkan\n",
        "# tabungan dalam satu tahun = biaya pensiun / lama menabung\n",
        "...\n",
        "\n",
        "# hitung tabungan per bulan yang harus dikumpulkan\n",
        "# tabungan per bulan = jumlah tabungan dalam satu tahun / 12 (jumlah bulan)\n",
        "...\n",
        "\n",
        "# tampilkan hasil perhitungan tabungan per bulan\n",
        "..."
      ],
      "metadata": {
        "colab": {
          "base_uri": "https://localhost:8080/"
        },
        "id": "YRy_nc9m0mFC",
        "outputId": "44ec08a5-3ed1-45af-9153-1b3016af1797"
      },
      "execution_count": null,
      "outputs": [
        {
          "output_type": "stream",
          "name": "stdout",
          "text": [
            "tabungan per bulan untuk pensiun : Rp  3333333.33\n"
          ]
        }
      ]
    },
    {
      "cell_type": "markdown",
      "source": [
        "### Case 4: Data Administrator"
      ],
      "metadata": {
        "id": "yDs7VuRx6CLN"
      }
    },
    {
      "cell_type": "markdown",
      "source": [
        "Seorang Data Administrator di Perusahaan S yang baru saja masuk ke kantor diberi task oleh bosnya untuk mengambil data seorang karyawan. Datanya sebagai berikut:\n",
        "\n",
        "| Nama | NIK | Jenis Kelamin | Alamat | Jabatan |\n",
        "|-|-|-|-|-|\n",
        "|Enzo Ferdinand | 223312 | Laki-Laki | Jl. Mawar No. 13, Kota A | Marketing Staff|\n",
        "\n"
      ],
      "metadata": {
        "id": "tc3EvUBd6LeN"
      }
    },
    {
      "cell_type": "markdown",
      "source": [
        "####**4A**"
      ],
      "metadata": {
        "id": "xdRNyNODDcmy"
      }
    },
    {
      "cell_type": "markdown",
      "source": [
        "Ambil karakter pertama dari nama awal karyawan tersebut, kemudian ambil juga nama terakhir. Setelah itu gabungkan keduanya sehingga menjadi `E. Ferdinand`\n"
      ],
      "metadata": {
        "id": "ArhfDy9eEYZC"
      }
    },
    {
      "cell_type": "code",
      "source": [
        "# definisikan variabel nama karyawan dahulu\n",
        "...\n",
        "\n",
        "# lakukan slicing untuk mendapatkan karakter pertama nama awal\n",
        "...\n",
        "\n",
        "# lakukan slicing untuk mendapatkan nama terakhir\n",
        "...\n",
        "\n",
        "# gabungkan nama awal dan nama terakhir\n",
        "...\n",
        "\n",
        "# tampilkan nama yang sudah digabung\n",
        "..."
      ],
      "metadata": {
        "colab": {
          "base_uri": "https://localhost:8080/"
        },
        "id": "quFnKjoy22MT",
        "outputId": "4843da1e-2ea4-4cd9-eb90-99bd5a729ebc"
      },
      "execution_count": null,
      "outputs": [
        {
          "output_type": "stream",
          "name": "stdout",
          "text": [
            "Nama Karyawan = E. Ferdinand\n"
          ]
        }
      ]
    },
    {
      "cell_type": "markdown",
      "source": [
        "#### **4B**\n",
        "\n"
      ],
      "metadata": {
        "id": "-uqGsteWHdMv"
      }
    },
    {
      "cell_type": "markdown",
      "source": [
        "Posisi Manager Marketing di Perusahaan tersebut sedang kosong karena suatu hal. Pimpinan perusahaan mempromosikan E. Ferdinand di posisi tersebut karena pekerjaannya memberi pengaruh besar kepada perusahaan. Ubah jabatan karyawan tersebut dari Marketing Staff menjadi Marketing Manager."
      ],
      "metadata": {
        "id": "6x8Lb1t1H3IO"
      }
    },
    {
      "cell_type": "code",
      "source": [
        "# definisikan variabel untuk menampung jabatan karyawan tersebut\n",
        "...\n",
        "\n",
        "# ganti kata Staff menjadi Manager\n",
        "...\n",
        "\n",
        "# tampilkan nama karyawan dan jabatannya sekarang\n",
        "..."
      ],
      "metadata": {
        "colab": {
          "base_uri": "https://localhost:8080/"
        },
        "id": "zX2hNWVoH2lF",
        "outputId": "55a9c54d-0ddd-4f71-a2ed-9bf5f0fd9f80"
      },
      "execution_count": null,
      "outputs": [
        {
          "output_type": "stream",
          "name": "stdout",
          "text": [
            "Jabatan Bapak E. Ferdinand adalah Marketing Manager\n"
          ]
        }
      ]
    },
    {
      "cell_type": "markdown",
      "source": [
        "### Case 5: Analisa Lirik Lagu"
      ],
      "metadata": {
        "id": "uxgxsG4bMYzC"
      }
    },
    {
      "cell_type": "markdown",
      "source": [
        "Alexa sangat menyukai band Bonjovi, terutama lagunya yang berjudul `it's my live`. Sangking sukanya Alexa sampai membuat analisis pada bagian reff lagu tersebut"
      ],
      "metadata": {
        "id": "10DSL74mMcBA"
      }
    },
    {
      "cell_type": "code",
      "source": [
        "lyrics =  '''\n",
        "It's my life\n",
        "It's now or never\n",
        "But I ain't gonna live forever\n",
        "I just want to live while I'm alive\n",
        "It's my life\n",
        "My heart is like an open highway\n",
        "Like Frankie said, I did it my way\n",
        "I just want to live while I'm alive\n",
        "It's my life\n",
        "'''"
      ],
      "metadata": {
        "id": "elpXxkymPELU"
      },
      "execution_count": null,
      "outputs": []
    },
    {
      "cell_type": "markdown",
      "source": [
        "#### 5A\n",
        "\n",
        "Sebelum melakukan analisis baiknya dilakukan pembersihan data dahulu. Beberapa caranya adalah:\n",
        "- Membuat huruf menjadi kecil semua,  \n",
        "- Menghilangkan karakter yang tidak diinginkan seperti tanda petik (`'`) dan tanda koma (`,`)\n",
        "\n",
        "\n"
      ],
      "metadata": {
        "id": "3c_VtQM6Req8"
      }
    },
    {
      "cell_type": "markdown",
      "source": [
        "\n",
        "\n",
        "Catatan :\n",
        "\n",
        "Untuk **menghilangkan** suatu karakter bisa menggunakan method `replace`. Maksudnya karakter tersebut **diganti atau di-replace** dengan **empty string** `(\"\")`\n",
        "\n",
        "Contoh :\n",
        "\n",
        "Kita akan menghilangkan huruf `\"b\"` dari kata `\"bisa\"`\n",
        "```\n",
        "NAMA_VAR = \"bisa\"\n",
        "NAMA_VAR = NAMA_VAR.replace('b', \"\")\n",
        "# output\n",
        "print(NAMA_VAR)\n",
        "\"isa\"\n",
        "```\n"
      ],
      "metadata": {
        "id": "HVu5_8CTOZ6g"
      }
    },
    {
      "cell_type": "code",
      "source": [
        "# buatlah huruf di variabel lyrics menjadi huruf kecil semua\n",
        "...\n",
        "\n",
        "# hilangkan tanda petik dengan method replace\n",
        "...\n",
        "# hilangkan tanda koma dengan method replace\n",
        "...\n",
        "\n",
        "# tampilakn lirik yang sudah di lakukan pembersihan data\n",
        "..."
      ],
      "metadata": {
        "colab": {
          "base_uri": "https://localhost:8080/"
        },
        "id": "pDN0bD2mSX50",
        "outputId": "8437c105-8b13-4c2e-a73c-bb1b9e4c6898"
      },
      "execution_count": null,
      "outputs": [
        {
          "output_type": "stream",
          "name": "stdout",
          "text": [
            " \n",
            "its my life\n",
            "its now or never\n",
            "but i aint gonna live forever\n",
            "i just want to live while im alive\n",
            "its my life\n",
            "my heart is like an open highway\n",
            "like frankie said i did it my way\n",
            "i just want to live while im alive\n",
            "its my life\n",
            "\n"
          ]
        }
      ]
    },
    {
      "cell_type": "markdown",
      "source": [
        "####**5B**"
      ],
      "metadata": {
        "id": "pDme_hNRP7ad"
      }
    },
    {
      "cell_type": "markdown",
      "source": [
        "Berapa banyak karakter dalam lirik tersebut?"
      ],
      "metadata": {
        "id": "MtQN4Go3Ugku"
      }
    },
    {
      "cell_type": "code",
      "source": [
        "# definisikan variabel dan hitung banyak karakter dengan method python\n",
        "...\n",
        "\n",
        "# tampilkan banyak karakter dalam lirik tersebut\n",
        "..."
      ],
      "metadata": {
        "colab": {
          "base_uri": "https://localhost:8080/"
        },
        "id": "iLGIFrUjUkIH",
        "outputId": "9ef4715a-17a6-451d-91c9-b2012690fac7"
      },
      "execution_count": null,
      "outputs": [
        {
          "output_type": "stream",
          "name": "stdout",
          "text": [
            "Banyak karakter dalam lirik adalah 222 karakter\n"
          ]
        }
      ]
    },
    {
      "cell_type": "markdown",
      "source": [
        "#### **5C**"
      ],
      "metadata": {
        "id": "4b3hOX4_VS92"
      }
    },
    {
      "cell_type": "markdown",
      "source": [
        "Berapakah banyak kemunculan kata `life` dalam lirik tersebut\n"
      ],
      "metadata": {
        "id": "FbTPVXG0VX9c"
      }
    },
    {
      "cell_type": "code",
      "source": [
        "# definisikan variabel dan hitung kemunculan kata life dengan method python\n",
        "...\n",
        "\n",
        "# tampilkan banyak kemunculan kata tersebut\n",
        "..."
      ],
      "metadata": {
        "colab": {
          "base_uri": "https://localhost:8080/"
        },
        "id": "DqBzOqukVjSI",
        "outputId": "d94a53dd-63f0-49e1-a1fb-fe6123df3f61"
      },
      "execution_count": null,
      "outputs": [
        {
          "output_type": "stream",
          "name": "stdout",
          "text": [
            "Kemunculan kata 'life' sebanyak 3 kali\n"
          ]
        }
      ]
    },
    {
      "cell_type": "markdown",
      "source": [
        "####**5D**"
      ],
      "metadata": {
        "id": "jOSX8joMVA4G"
      }
    },
    {
      "cell_type": "markdown",
      "source": [
        "Berapakah prosentase kemunculan karakter `life` dalam lagu tersebut\n",
        "```\n",
        "keterangan:\n",
        "prosentase = (jumlah kemunculan / total karakter) * 100\n",
        "```\n",
        "\n"
      ],
      "metadata": {
        "id": "gAQUiVVlQAJN"
      }
    },
    {
      "cell_type": "code",
      "source": [
        "# definisikan variabel dan hitung prosentase kemunculan karakter life\n",
        "...\n",
        "\n",
        "# tampilkan prosentase kemunculan karakter life dalam lirik tersebut\n",
        "..."
      ],
      "metadata": {
        "colab": {
          "base_uri": "https://localhost:8080/"
        },
        "id": "heFjpG-kPsgb",
        "outputId": "22724e98-1dcf-4af9-8830-5b24d3c91849"
      },
      "execution_count": null,
      "outputs": [
        {
          "output_type": "stream",
          "name": "stdout",
          "text": [
            "prosentase kemunculan karakter life dalam lirik yaitu 1.35%   \n"
          ]
        }
      ]
    },
    {
      "cell_type": "markdown",
      "source": [
        "# **Boolean**"
      ],
      "metadata": {
        "id": "bst2q8NH5Xkf"
      }
    },
    {
      "cell_type": "markdown",
      "source": [
        "Buatlah variabel boolean dengan nama variabel_1 dan variabel_2 masing masing True dan False"
      ],
      "metadata": {
        "id": "pV7wzBEjHHhJ"
      }
    },
    {
      "cell_type": "code",
      "source": [
        "# Code in here\n",
        "..."
      ],
      "metadata": {
        "id": "kRorumfKHHx6"
      },
      "execution_count": null,
      "outputs": []
    },
    {
      "cell_type": "markdown",
      "source": [
        "Gunakan variabel_1 dan variabel_2 sebelumnya dengan operasi boolean tidak sama dengan"
      ],
      "metadata": {
        "id": "B1HUov5IkbeQ"
      }
    },
    {
      "cell_type": "code",
      "source": [
        "# Code in here\n",
        "..."
      ],
      "metadata": {
        "colab": {
          "base_uri": "https://localhost:8080/"
        },
        "id": "3fWIIt-skadj",
        "outputId": "753822c8-21c9-41d1-f2e9-f5d8f8b9005c"
      },
      "execution_count": null,
      "outputs": [
        {
          "output_type": "execute_result",
          "data": {
            "text/plain": [
              "True"
            ]
          },
          "metadata": {},
          "execution_count": 10
        }
      ]
    },
    {
      "cell_type": "markdown",
      "metadata": {
        "id": "turkish-adrian"
      },
      "source": [
        "Cek nilai bolean dari operasi berikut: 10 >= 11"
      ]
    },
    {
      "cell_type": "code",
      "metadata": {
        "colab": {
          "base_uri": "https://localhost:8080/"
        },
        "id": "sonic-stephen",
        "outputId": "7c520e12-5ca7-4a12-8610-9d0015b74ce0"
      },
      "source": [
        "# Code in here\n",
        "..."
      ],
      "execution_count": null,
      "outputs": [
        {
          "output_type": "execute_result",
          "data": {
            "text/plain": [
              "False"
            ]
          },
          "metadata": {},
          "execution_count": 11
        }
      ]
    },
    {
      "cell_type": "markdown",
      "source": [
        "Buatlah operasi boolean dengan pernyataan 6 lebih besar 7  dengan  dari 1"
      ],
      "metadata": {
        "id": "dQfbRJeUnh-Q"
      }
    },
    {
      "cell_type": "code",
      "source": [
        "# Code in here\n",
        "..."
      ],
      "metadata": {
        "colab": {
          "base_uri": "https://localhost:8080/"
        },
        "id": "YxTYsnU5niEI",
        "outputId": "219a0901-ffe8-4654-88f0-83b2b9db7bad"
      },
      "execution_count": null,
      "outputs": [
        {
          "output_type": "execute_result",
          "data": {
            "text/plain": [
              "False"
            ]
          },
          "metadata": {},
          "execution_count": 12
        }
      ]
    },
    {
      "cell_type": "markdown",
      "source": [
        "Ubahlah operator pada operasi boolean diatas sehingga menghasilkan nilai boolean yang berkebalikan"
      ],
      "metadata": {
        "id": "NamcLGvCoUGy"
      }
    },
    {
      "cell_type": "code",
      "source": [
        "# Code in here\n",
        "..."
      ],
      "metadata": {
        "colab": {
          "base_uri": "https://localhost:8080/"
        },
        "id": "nrAwlbgwoSsd",
        "outputId": "deda9a25-6ff0-4baf-82da-da2ac03cf427"
      },
      "execution_count": null,
      "outputs": [
        {
          "output_type": "execute_result",
          "data": {
            "text/plain": [
              "True"
            ]
          },
          "metadata": {},
          "execution_count": 13
        }
      ]
    },
    {
      "cell_type": "markdown",
      "metadata": {
        "id": "excited-kernel"
      },
      "source": [
        "Masukkan nilai variabel a sehingga nilai boolean dari operasi berikut bernilai True\n",
        "\n"
      ]
    },
    {
      "cell_type": "code",
      "metadata": {
        "colab": {
          "base_uri": "https://localhost:8080/"
        },
        "id": "second-teaching",
        "outputId": "0da0999b-bc6d-473d-a628-9f8efea8076c"
      },
      "source": [
        "# Code in here\n",
        "a = ... #nilai apapun yang melebih atau sama dengan nilai 10\n",
        "b = 10\n",
        "\n",
        "a >= b"
      ],
      "execution_count": null,
      "outputs": [
        {
          "output_type": "execute_result",
          "data": {
            "text/plain": [
              "True"
            ]
          },
          "metadata": {},
          "execution_count": 14
        }
      ]
    },
    {
      "cell_type": "markdown",
      "source": [
        "Tambahkan operasi dibawah ini kedalam python menggunakan variabel a dan b sebelumnya\n",
        "\n",
        "    a tidak sama dengan b dan a lebih besar dari b"
      ],
      "metadata": {
        "id": "iZt0W0hEldfi"
      }
    },
    {
      "cell_type": "code",
      "source": [
        "# Code in here\n",
        "..."
      ],
      "metadata": {
        "id": "H3H67YTBlXar"
      },
      "execution_count": null,
      "outputs": []
    },
    {
      "cell_type": "markdown",
      "source": [
        "Buatlah variabel angka_1 lalu buatlah sesuai dengan pernyataan operasi berikut\n",
        "\n",
        "    angka_1 lebih besar sama dengan 6 tidak sama dengan angka_1 lebih kecil dari 12\n",
        "\n",
        "Buatlah agar mengeluarkan output True"
      ],
      "metadata": {
        "id": "qAbHlxcUsuWQ"
      }
    },
    {
      "cell_type": "code",
      "source": [
        "# Code in here\n",
        "..."
      ],
      "metadata": {
        "colab": {
          "base_uri": "https://localhost:8080/"
        },
        "id": "1fcN3y_1tK-P",
        "outputId": "ffe615c0-71d0-4867-9611-1ef1f6f3213f"
      },
      "execution_count": null,
      "outputs": [
        {
          "output_type": "execute_result",
          "data": {
            "text/plain": [
              "True"
            ]
          },
          "metadata": {},
          "execution_count": 15
        }
      ]
    },
    {
      "cell_type": "markdown",
      "source": [
        "Ubahlah operator tidak sama dengan menjadi operator logic and pada operasi sebelumnya. buatlah agar output booleannya menjadi False:"
      ],
      "metadata": {
        "id": "tHiObgaHtspc"
      }
    },
    {
      "cell_type": "code",
      "source": [
        "# Code in here\n",
        "..."
      ],
      "metadata": {
        "colab": {
          "base_uri": "https://localhost:8080/"
        },
        "id": "M89QnpAOt0bW",
        "outputId": "e7166b60-3eca-4ef5-a7c9-f1e544b02365"
      },
      "execution_count": null,
      "outputs": [
        {
          "output_type": "execute_result",
          "data": {
            "text/plain": [
              "False"
            ]
          },
          "metadata": {},
          "execution_count": 16
        }
      ]
    },
    {
      "cell_type": "markdown",
      "metadata": {
        "id": "cubic-fellow"
      },
      "source": [
        "Cek apakah jarak rumah budi ke sekolah 250 meter, lebih jauh dari jarak rumah tono ke sekolah 223 meter."
      ]
    },
    {
      "cell_type": "code",
      "metadata": {
        "colab": {
          "base_uri": "https://localhost:8080/"
        },
        "id": "removed-associate",
        "outputId": "4d728b44-5d9c-43ba-997f-b7aa58fbb27f"
      },
      "source": [
        "# Code in here\n",
        "jarak_rumah_budi = ... #meter\n",
        "jarak_rumah_tono = ... #meter\n",
        "\n",
        "..."
      ],
      "execution_count": null,
      "outputs": [
        {
          "output_type": "execute_result",
          "data": {
            "text/plain": [
              "True"
            ]
          },
          "metadata": {},
          "execution_count": 17
        }
      ]
    },
    {
      "cell_type": "markdown",
      "source": [
        "Cek apakah jika nama Cynthia dan nama Cynth'ia itu sama dengan menggunakan operator boolean"
      ],
      "metadata": {
        "id": "H8PldLH_jjGm"
      }
    },
    {
      "cell_type": "code",
      "source": [
        "# Code in here\n",
        "..."
      ],
      "metadata": {
        "colab": {
          "base_uri": "https://localhost:8080/"
        },
        "id": "csFF9-MbjkOq",
        "outputId": "87ec4ff8-c60f-4475-dca5-9279a2a6d8d0"
      },
      "execution_count": null,
      "outputs": [
        {
          "output_type": "execute_result",
          "data": {
            "text/plain": [
              "False"
            ]
          },
          "metadata": {},
          "execution_count": 18
        }
      ]
    },
    {
      "cell_type": "markdown",
      "metadata": {
        "id": "comic-sewing"
      },
      "source": [
        "Masukkan nilai ke dalam variable a, b dan c sehingga nilai boolean dari operasi logika berikut menjadi False (untuk angkanya bebas)\n",
        "\n",
        "    (a > b AND a > c ) OR (b < c)"
      ]
    },
    {
      "cell_type": "code",
      "metadata": {
        "colab": {
          "base_uri": "https://localhost:8080/"
        },
        "id": "human-dryer",
        "outputId": "f54a04d9-71fa-4c9d-d675-1de49730859c"
      },
      "source": [
        "a = ...\n",
        "b = ...\n",
        "c = ...\n",
        "\n",
        "..."
      ],
      "execution_count": null,
      "outputs": [
        {
          "output_type": "execute_result",
          "data": {
            "text/plain": [
              "False"
            ]
          },
          "metadata": {},
          "execution_count": 19
        }
      ]
    },
    {
      "cell_type": "markdown",
      "source": [
        "Dengan operasi logika sebelumnya ubah nilai variabel sehingga menjadi True"
      ],
      "metadata": {
        "id": "HloDEoZjmgxC"
      }
    },
    {
      "cell_type": "code",
      "source": [
        "a = ...\n",
        "b = ...\n",
        "c = ...\n",
        "\n",
        "..."
      ],
      "metadata": {
        "colab": {
          "base_uri": "https://localhost:8080/"
        },
        "id": "yxSqM6Xhmd2A",
        "outputId": "d8ab2340-f6c3-46d6-e4f9-754e25159d2a"
      },
      "execution_count": null,
      "outputs": [
        {
          "output_type": "execute_result",
          "data": {
            "text/plain": [
              "True"
            ]
          },
          "metadata": {},
          "execution_count": 20
        }
      ]
    },
    {
      "cell_type": "markdown",
      "metadata": {
        "id": "supported-medicare"
      },
      "source": [
        "Cek apakah nilai x lebih kecil atau sama dengan y bila diketahui: y = 3$x^{2}$ + 4x - 27 dan x = 3"
      ]
    },
    {
      "cell_type": "code",
      "metadata": {
        "id": "colored-rover",
        "colab": {
          "base_uri": "https://localhost:8080/"
        },
        "outputId": "31da5f8d-0927-45d9-e329-19efb5dc4c4e"
      },
      "source": [
        "# Code in here\n",
        "..."
      ],
      "execution_count": null,
      "outputs": [
        {
          "output_type": "execute_result",
          "data": {
            "text/plain": [
              "True"
            ]
          },
          "metadata": {},
          "execution_count": 1
        }
      ]
    },
    {
      "cell_type": "markdown",
      "metadata": {
        "id": "modular-yellow"
      },
      "source": [
        "Dari soal sebelumnya, jika ditambahkan nilai z = 3x + 5$y^{2}$ - 18, tentukan hasil operasi berikut :\n",
        "\n",
        "    (z > y) AND (x < z OR x >= y)"
      ]
    },
    {
      "cell_type": "code",
      "metadata": {
        "id": "compressed-escape",
        "colab": {
          "base_uri": "https://localhost:8080/"
        },
        "outputId": "db132f9b-5e49-4d81-8745-bd75c30120bb"
      },
      "source": [
        "# Code in here\n",
        "..."
      ],
      "execution_count": null,
      "outputs": [
        {
          "output_type": "execute_result",
          "data": {
            "text/plain": [
              "False"
            ]
          },
          "metadata": {},
          "execution_count": 22
        }
      ]
    },
    {
      "cell_type": "markdown",
      "source": [
        "<details>\n",
        "    <summary><b>Klik untuk melihat kunci jawaban</b></summary>\n",
        "\n",
        "```python\n",
        "z = 3*x + 5*y**2 - 18\n",
        "\n",
        "(z>y) and (x<z or x >=y)\n",
        "```\n",
        "\n",
        "</details>\n",
        "\n",
        "---"
      ],
      "metadata": {
        "id": "pJQ8k5ggo73z"
      }
    },
    {
      "cell_type": "markdown",
      "source": [
        "# **Branching**"
      ],
      "metadata": {
        "id": "W65cBNPX7GPz"
      }
    },
    {
      "cell_type": "markdown",
      "metadata": {
        "id": "revolutionary-layer"
      },
      "source": [
        "Buatlah program yang menentukan apakah seseorang dapat membuat SIM atau tidak. Batas usia minimum pembuatan SIM adalah 18 tahun."
      ]
    },
    {
      "cell_type": "code",
      "metadata": {
        "id": "noticed-refund"
      },
      "source": [
        "# Code in here\n",
        "..."
      ],
      "execution_count": null,
      "outputs": []
    },
    {
      "cell_type": "markdown",
      "metadata": {
        "id": "circular-production"
      },
      "source": [
        "Buat program yang mengecek apakah sebuah variable memiliki tipe data string, float atau integer"
      ]
    },
    {
      "cell_type": "code",
      "metadata": {
        "id": "regulated-pendant",
        "colab": {
          "base_uri": "https://localhost:8080/"
        },
        "outputId": "47bf8342-3e02-4086-ff31-2940c0f84a66"
      },
      "source": [
        "# Code in here\n",
        "\n",
        "var = ...\n",
        "\n",
        "..."
      ],
      "execution_count": null,
      "outputs": [
        {
          "output_type": "stream",
          "name": "stdout",
          "text": [
            "tipe data 2.0 adalah float\n"
          ]
        }
      ]
    },
    {
      "cell_type": "markdown",
      "metadata": {
        "id": "forbidden-violation"
      },
      "source": [
        "Buatlah program yang mengecek apakah sebuah bilangan habis di bagi 5 atau tidak"
      ]
    },
    {
      "cell_type": "code",
      "source": [
        "# Code in here\n",
        "\n",
        "angka_1 = ...\n",
        "\n",
        "..."
      ],
      "metadata": {
        "colab": {
          "base_uri": "https://localhost:8080/"
        },
        "id": "lypwfifBy303",
        "outputId": "9f25e83e-5ecb-4ad1-aeeb-c079bcf579b2"
      },
      "execution_count": null,
      "outputs": [
        {
          "output_type": "stream",
          "name": "stdout",
          "text": [
            "angka memiliki sisa 2\n"
          ]
        }
      ]
    },
    {
      "cell_type": "markdown",
      "metadata": {
        "id": "twenty-socket"
      },
      "source": [
        "Cek yang manakah paragraf di bawah ini yang memilik jumlah karakter lebih banyak?\n",
        "\n",
        "    lirik_1 =\n",
        "            \"This ain't a song for the broken-hearted No silent prayer for faith-departed And I ain't gonna be just a face in the crowd You're gonna hear my voice when I shout it out loud\"\n",
        "            \n",
        "    lirik_2 =\n",
        "            \"Yeah, this is for the ones who stood their ground For Tommy and Gina,\n",
        "            who never backed down Tomorrow's getting harder, make no mistake Luck\n",
        "            ain't even lucky, got to make your own breaks\""
      ]
    },
    {
      "cell_type": "code",
      "metadata": {
        "id": "nominated-sitting",
        "colab": {
          "base_uri": "https://localhost:8080/"
        },
        "outputId": "3b8a9cd1-ccbb-411a-d513-74a4bdda5d65"
      },
      "source": [
        "# Code in here\n",
        "\n",
        "lirik_1 = ...\n",
        "lirik_2 = ...\n",
        "\n",
        "..."
      ],
      "execution_count": null,
      "outputs": [
        {
          "output_type": "stream",
          "name": "stdout",
          "text": [
            "lirik_2 memiliki karakter lebih banyak\n"
          ]
        }
      ]
    },
    {
      "cell_type": "markdown",
      "metadata": {
        "id": "polish-telling"
      },
      "source": [
        "Minimaket \"AAA\" memberikan diskon 10% bagi pelanggan yang total belanjannya diatas Rp. 100.000. Ani belanja di minimarket A dengan rincian belanja sebagai berikut:\n",
        "\n",
        "\n",
        "| barang      | Sub total harga  |\n",
        "|-------------|--------|\n",
        "| 1 Sabun Mandi | 25000  |\n",
        "| 2 Sabun Cuci| 2 x 18000 |\n",
        "| 1 Kotak Susu | 48000  |\n",
        "| 2 Pasta Gigi | 2 x 11000  |\n",
        "\n",
        "\n",
        "\n",
        "Buat program yang menentukan apakah total belanja Ani mendapat diskon atau tidak. Cetak total belanja yang harus di bayar Ani."
      ]
    },
    {
      "cell_type": "code",
      "metadata": {
        "id": "handy-perfume",
        "colab": {
          "base_uri": "https://localhost:8080/"
        },
        "outputId": "965ceda5-0f48-4ded-c2cb-3df9c4cdbb8d"
      },
      "source": [
        "# Code in here\n",
        "..."
      ],
      "execution_count": null,
      "outputs": [
        {
          "output_type": "stream",
          "name": "stdout",
          "text": [
            "Ani mendapat diskon sebesar 13100.0 dan total belanja setelah diskon adalah 117900.0\n"
          ]
        }
      ]
    },
    {
      "cell_type": "markdown",
      "metadata": {
        "id": "racial-prefix"
      },
      "source": [
        "Buatlah program yang menentukan kategori generasi seseorang berdasarkan tahun lahirnya. Kondisi pengkategoriannya sebagai berikut:\n",
        " - Baby boomer, kelahiran 1944 s.d 1964\n",
        " - Generasi X, kelahiran 1965 s.d 1979\n",
        " - Generasi Y (Millenials), kelahiran 1980 s.d 1994\n",
        " - Generasi Z, kelahiran 1995 s.d 2015"
      ]
    },
    {
      "cell_type": "code",
      "metadata": {
        "id": "least-valve",
        "colab": {
          "base_uri": "https://localhost:8080/"
        },
        "outputId": "f71c2cbb-8461-42a5-946c-25d92fed6ed1"
      },
      "source": [
        "# Code in here\n",
        "..."
      ],
      "execution_count": null,
      "outputs": [
        {
          "output_type": "stream",
          "name": "stdout",
          "text": [
            "Anda adalah Generasi Z\n"
          ]
        }
      ]
    },
    {
      "cell_type": "markdown",
      "metadata": {
        "id": "sapphire-springer"
      },
      "source": [
        "Dinas Kesehatan ingin melakukan vaksinasi tahap 1, dengan syarat, warga yang akan di vaksin berprofesi sebagai petugas pelayanan umum seperti TNI, Polri Perawat atau Dokter. Di luar profesi tersebut maka ia bukan prioritas program vaksinasi. Jika usia petugas pelayanan umum kurang dari 50 tahun maka akan di berikan vaksin buatan Sinovac namun jika berusia 50 tahun ke atas maka akan diberikan vaksin Novavax.\n",
        "\n",
        "note: soal di atas hanya fiktif\n",
        "\n",
        "Buatlah program untuk menentukan target dan vaksin yang akan diberikan terhadap kasus tersebut."
      ]
    },
    {
      "cell_type": "code",
      "metadata": {
        "id": "solid-highway",
        "colab": {
          "base_uri": "https://localhost:8080/"
        },
        "outputId": "7cb639f0-c8aa-490f-d01c-c19c56efb066"
      },
      "source": [
        "# Code in here\n",
        "..."
      ],
      "execution_count": null,
      "outputs": [
        {
          "output_type": "stream",
          "name": "stdout",
          "text": [
            "Andi akan di berikan vaksin Sinovac\n"
          ]
        }
      ]
    },
    {
      "cell_type": "markdown",
      "metadata": {
        "id": "possible-bridges"
      },
      "source": [
        "Buatlah program yang menerima input bilangan (x), kemudian akan melakukan perintah berikut:\n",
        "- n bernilai 8\n",
        "- Jika x ganjil, maka print \"ganjil\"\n",
        "- Jika x genap dan berada pada rentang 2 sampai 7, print (genap di bawah 7)\n",
        "- Jika x genap dan berada pada rentang 8 sampai 28, print (genap antara 8-28)\n",
        "- Jika x genap dan lebih besar dari 28, print (genap antara ditas 28)"
      ]
    },
    {
      "cell_type": "code",
      "metadata": {
        "id": "excess-binary",
        "colab": {
          "base_uri": "https://localhost:8080/"
        },
        "outputId": "80e927ff-413f-4133-fedb-f8c8b3c98ee8"
      },
      "source": [
        "# Code in here\n",
        "..."
      ],
      "execution_count": null,
      "outputs": [
        {
          "output_type": "stream",
          "name": "stdout",
          "text": [
            "genap antara 8-28\n"
          ]
        }
      ]
    },
    {
      "cell_type": "markdown",
      "metadata": {
        "id": "buried-seven"
      },
      "source": [
        "Buatlah program yang mengkonversi nilai 1-100 kedalam bentuk nilai (A, B, C, D, F). dengan syarat:\n",
        "\n",
        "- Nilai 90 hingga 100 dikonversi menjadi A\n",
        "- Nilai 80 hingga 89 dikonversi menjadi B\n",
        "- Nilai 70 hingga 79 dikonversi menjadi C\n",
        "- Nilai 65 hingga 69 dikonversi menjadi D\n",
        "- dan dibawah nilai 65 dikonversi menjadi F"
      ]
    },
    {
      "cell_type": "code",
      "metadata": {
        "id": "enhanced-bulgaria",
        "colab": {
          "base_uri": "https://localhost:8080/"
        },
        "outputId": "db12e104-f267-419c-f5cb-1a022d8b943a"
      },
      "source": [
        "# Code in here\n",
        "..."
      ],
      "execution_count": null,
      "outputs": [
        {
          "output_type": "stream",
          "name": "stdout",
          "text": [
            "B\n"
          ]
        }
      ]
    },
    {
      "cell_type": "markdown",
      "metadata": {
        "id": "39955d1e"
      },
      "source": [
        "Diberikan tiga buah variabel a, b dan c yang masing-masing berisi nilai integer. Tentukan yang variabel manakah yang memiliki nilai terbesar?"
      ]
    },
    {
      "cell_type": "code",
      "metadata": {
        "id": "8d820edb",
        "colab": {
          "base_uri": "https://localhost:8080/"
        },
        "outputId": "cfaa79c6-330c-4ffc-bd67-336b89a4d4e6"
      },
      "source": [
        "# Code in here\n",
        "..."
      ],
      "execution_count": null,
      "outputs": [
        {
          "output_type": "stream",
          "name": "stdout",
          "text": [
            "b memiliki nilai terbesar\n"
          ]
        }
      ]
    },
    {
      "cell_type": "markdown",
      "metadata": {
        "id": "f0f2a8b0"
      },
      "source": [
        "Buatlah program yang menentukan apakah sebuah nilai merupakan bilangan negatif, positif, atau nol."
      ]
    },
    {
      "cell_type": "code",
      "metadata": {
        "id": "dfd3a3a4",
        "colab": {
          "base_uri": "https://localhost:8080/"
        },
        "outputId": "1829222f-e585-4edb-947d-cf5a98e5ec2a"
      },
      "source": [
        "# Code in here\n",
        "..."
      ],
      "execution_count": null,
      "outputs": [
        {
          "output_type": "stream",
          "name": "stdout",
          "text": [
            "Bilangan Positif\n"
          ]
        }
      ]
    },
    {
      "cell_type": "markdown",
      "metadata": {
        "id": "CMiCeA3HlZqz"
      },
      "source": [
        "Buatlah program untuk mencari siapa yang tertua dari 3 orang.\n",
        "   \n",
        "    * Input:\n",
        "    ```\n",
        "        orang_1 = 40\n",
        "        orang_2 = 25\n",
        "        orang_3 = 37\n",
        "    ```\n",
        "    * Output:\n",
        "        ```\n",
        "        Orang yang tertua adalah orang pertama\n",
        "        ```"
      ]
    },
    {
      "cell_type": "code",
      "source": [
        "# Code in here\n",
        "..."
      ],
      "metadata": {
        "id": "FZFVKl5-O4mS",
        "colab": {
          "base_uri": "https://localhost:8080/"
        },
        "outputId": "447fd7af-8268-44b9-8d6b-06195ebb792b"
      },
      "execution_count": null,
      "outputs": [
        {
          "output_type": "stream",
          "name": "stdout",
          "text": [
            "Orang Tertua adalah orang ketiga\n"
          ]
        }
      ]
    },
    {
      "cell_type": "markdown",
      "metadata": {
        "id": "VVbD3Fl6lc6x"
      },
      "source": [
        "Sebuah perusahaan akan memberikan bonus 10% dari gaji masing-masing pegawai kepada pegawainya jika pegawainya telah bekerja selama minimal 5 tahun.\n",
        "\n",
        "    * Input:\n",
        "```\n",
        "kasus 1: gaji = 5000 ; masa bakti = 2\n",
        "kasus 2: gaji = 10000; masa bakti = 6\n",
        "```\n",
        "    * Output:\n",
        "```\n",
        "kasus 1: Tidak ada bonus\n",
        "kasus 2: Bonus adalah 500\n",
        "```\n",
        "\n",
        "\n",
        "\n"
      ]
    },
    {
      "cell_type": "code",
      "metadata": {
        "id": "I87z6HV3lgYe"
      },
      "source": [
        "# Code in here\n",
        "..."
      ],
      "execution_count": null,
      "outputs": []
    },
    {
      "cell_type": "markdown",
      "source": [
        "Buatlah Program Nested Branching Menentukan tahun kabisat dengan ketentuan\n",
        "\n",
        "1. Jika satu tahun habis dibagi 4 dan tidak ada sisa, lanjutkan ke langkah berikutnya. Jika tidak habis dibagi 4. Bukan tahun kabisat.\n",
        "2. Jika suatu tahun habis dibagi 4, tetapi tidak habis dibagi 100, itu adalah tahun kabisat. Jika satu tahun habis dibagi 4 dan 100, lanjutkan ke langkah berikutnya.\n",
        "3. Jika suatu tahun habis dibagi 100, tetapi tidak habis dibagi 400 maka itu bukan tahun kabisat. Jika tahun habis dibagi keduanya maka tahun tersebut adalah tahun kabisat.\n",
        "\n",
        "    * Input:\n",
        "```\n",
        "kasus 1: tahun = 2024\n",
        "kasus 2: tahun = 2013\n",
        "```\n",
        "    * Output:\n",
        "```\n",
        "kasus 1: 2024 adalah tahun kabisat\n",
        "kasus 2: 2013 bukan tahun kabisat\n",
        "```\n"
      ],
      "metadata": {
        "id": "JDtYMov1Qocx"
      }
    },
    {
      "cell_type": "code",
      "source": [
        "# Code in here\n",
        "..."
      ],
      "metadata": {
        "colab": {
          "base_uri": "https://localhost:8080/"
        },
        "id": "K88wMzUZQohm",
        "outputId": "d020c760-5dbe-4adf-e02a-e11c0ddd9076"
      },
      "execution_count": null,
      "outputs": [
        {
          "output_type": "stream",
          "name": "stdout",
          "text": [
            "2025 bukan tahun kabisat\n"
          ]
        }
      ]
    },
    {
      "cell_type": "markdown",
      "source": [
        "Buatlah program nested branching menentukan nilai\n",
        "  1. Jika presensi kurang dari atau sama dengan tiga, lanjut ke langkah berikutnya\n",
        "  2. Jika avarage nilai lebih atau sama dengan 80 maka \"nilai A\"\n",
        "  3. Jika avarage nilai lebih atau sama dengan 70 maka \"nilai B\"\n",
        "  4. Jika avarage nilai lebih atau sama dengan 60 maka \"nilai C\"\n",
        "  5. Lainnya maka \"nilai D\"\n",
        "  6. Jika presensi lebih dari itu maka \"nilai X\"\n",
        "\n",
        "\n",
        "    * Input:\n",
        "```\n",
        "skenario 1: presensi = 2 ; average_nilai = 80\n",
        "skenario 2: presensi = 4 ; average_nilai = 70\n",
        "```\n",
        "    * Output:\n",
        "```\n",
        "skenario 1: nilai A\n",
        "skenario 2: nilai X\n",
        "```"
      ],
      "metadata": {
        "id": "Rp7OFF9iht__"
      }
    },
    {
      "cell_type": "code",
      "source": [
        "# Code in here\n",
        "..."
      ],
      "metadata": {
        "id": "qy_Q8sO3WOOk",
        "colab": {
          "base_uri": "https://localhost:8080/"
        },
        "outputId": "1fb946de-c320-4a63-ee50-adec5662febe"
      },
      "execution_count": null,
      "outputs": [
        {
          "output_type": "stream",
          "name": "stdout",
          "text": [
            "nilai X\n"
          ]
        }
      ]
    }
  ]
}